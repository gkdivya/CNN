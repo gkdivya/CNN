{
  "nbformat": 4,
  "nbformat_minor": 0,
  "metadata": {
    "colab": {
      "name": "GoogleImage_Beautiful_Soup.ipynb",
      "provenance": [],
      "collapsed_sections": [],
      "include_colab_link": true
    },
    "kernelspec": {
      "name": "python3",
      "display_name": "Python 3"
    },
    "language_info": {
      "name": "python"
    }
  },
  "cells": [
    {
      "cell_type": "markdown",
      "metadata": {
        "id": "view-in-github",
        "colab_type": "text"
      },
      "source": [
        "<a href=\"https://colab.research.google.com/github/gkdivya/CNN/blob/master/GoogleImage_Beautiful_Soup.ipynb\" target=\"_parent\"><img src=\"https://colab.research.google.com/assets/colab-badge.svg\" alt=\"Open In Colab\"/></a>"
      ]
    },
    {
      "cell_type": "code",
      "metadata": {
        "id": "96RLBI21T_px"
      },
      "source": [
        "import os\n",
        "import requests\n",
        "from bs4 import BeautifulSoup\n",
        "\n",
        "\n",
        "Google_Images = 'https://www.google.com/search?site=&tbm=isch&source=hp&biw=1873&bih=990&'\n",
        "\n",
        "user_agent = {\n",
        "    'User-Agent': 'Mozilla/5.0 (Windows NT 10.0; Win64; x64) AppleWebKit/537.36 (KHTML, like Gecko) Chrome/91.0.4472.106 Safari/537.36',\n",
        "    'Accept': 'text/html,application/xhtml+xml,application/xml;q=0.9,*/*;q=0.8',\n",
        "    'Accept-Charset': 'ISO-8859-1,utf-8;q=0.7,*;q=0.3',\n",
        "    'Accept-Encoding': 'none',\n",
        "    'Accept-Language': 'en-US,en;q=0.8',\n",
        "    'Connection': 'keep-alive',\n",
        "} #write: 'my user agent' in browser to get your browser user agent details\n",
        "\n",
        "Image_Folder = 'buses'\n",
        "\n",
        "def main():\n",
        "    if not os.path.exists(Image_Folder): # creat folder if your folder not exist\n",
        "        os.mkdir(Image_Folder)\n",
        "    download_images()\n",
        "\n",
        "def download_images():\n",
        "    data = input('Enter search keyword: ')\n",
        "    num_images = int(input('Enter the number of images you want: '))\n",
        "    print('Searching Images....')    \n",
        "    search_url = Google_Images + 'q=' + data\n",
        "    \n",
        "    response = requests.get(search_url, headers=user_agent)   \n",
        "    b_soup = BeautifulSoup(response.text, 'html.parser') \n",
        "    results = b_soup.findAll('img', {'class': 'rg_i Q4LuWd'})\n",
        "    \n",
        "    count = 0\n",
        "    imagelinks= []\n",
        "    for res in results:\n",
        "        try:\n",
        "            link = res['data-src']\n",
        "            imagelinks.append(link)\n",
        "            count = count + 1\n",
        "            if (count >= num_images):\n",
        "                break  \n",
        "\n",
        "        except KeyError:  # allow to continue if source is not data-src\n",
        "            continue\n",
        "    \n",
        "    print(f'Found {len(imagelinks)} images')\n",
        "    print('Start downloading...')\n",
        "\n",
        "    for i, imagelink in enumerate(imagelinks):\n",
        "        # open each image link and save the file\n",
        "        response = requests.get(imagelink)\n",
        "        \n",
        "        imagename = Image_Folder + '/' + data + str(i+1) + '.jpg'\n",
        "        with open(imagename, 'wb') as file:\n",
        "            file.write(response.content)\n",
        "\n",
        "    print('Download Completed!')\n",
        "    \n",
        "\n",
        "if __name__ == '__main__':\n",
        "    main()"
      ],
      "execution_count": null,
      "outputs": []
    },
    {
      "cell_type": "code",
      "metadata": {
        "id": "VyyX0K_iUQjl"
      },
      "source": [
        "import os\n",
        "\n",
        "def rename(folder_path,count):\n",
        "    for i in os.listdir(folder_path):\n",
        "        os.rename(folder_path+'/'+i,folder_path+'/'+'Seat'+str(count)+'.jpg')\n",
        "        count = count+1\n",
        "    return None\n",
        "\n",
        "if __name__ == '__main__':\n",
        "    folder_path = \"buses\"\n",
        "    count = int(input(\"Enter starting count: \"))\n",
        "    rename(folder_path,count)\n"
      ],
      "execution_count": null,
      "outputs": []
    }
  ]
}