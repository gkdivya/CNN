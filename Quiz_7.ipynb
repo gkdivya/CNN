{
  "nbformat": 4,
  "nbformat_minor": 0,
  "metadata": {
    "colab": {
      "name": "Quiz 7.ipynb",
      "version": "0.3.2",
      "provenance": [],
      "collapsed_sections": [],
      "include_colab_link": true
    },
    "kernelspec": {
      "name": "python3",
      "display_name": "Python 3"
    },
    "accelerator": "GPU"
  },
  "cells": [
    {
      "cell_type": "markdown",
      "metadata": {
        "id": "view-in-github",
        "colab_type": "text"
      },
      "source": [
        "<a href=\"https://colab.research.google.com/github/gkdivya/CNN/blob/master/Quiz_7.ipynb\" target=\"_parent\"><img src=\"https://colab.research.google.com/assets/colab-badge.svg\" alt=\"Open In Colab\"/></a>"
      ]
    },
    {
      "cell_type": "markdown",
      "metadata": {
        "id": "aNyZv-Ec52ot",
        "colab_type": "text"
      },
      "source": [
        "# **Import Libraries and modules**"
      ]
    },
    {
      "cell_type": "code",
      "metadata": {
        "id": "3m3w1Cw49Zkt",
        "colab_type": "code",
        "colab": {
          "base_uri": "https://localhost:8080/",
          "height": 34
        },
        "outputId": "1ebead80-9c42-4110-d127-a86d09087c5b"
      },
      "source": [
        "# https://keras.io/\n",
        "!pip install -q keras\n",
        "import keras\n",
        "import datetime\n",
        "print(datetime.datetime.now())"
      ],
      "execution_count": 2,
      "outputs": [
        {
          "output_type": "stream",
          "text": [
            "2019-09-04 13:01:43.642570\n"
          ],
          "name": "stdout"
        }
      ]
    },
    {
      "cell_type": "code",
      "metadata": {
        "id": "Eso6UHE080D4",
        "colab_type": "code",
        "colab": {
          "base_uri": "https://localhost:8080/",
          "height": 34
        },
        "outputId": "036f5fd5-6cfa-4602-9b20-fab01842ad67"
      },
      "source": [
        "import numpy as np\n",
        "\n",
        "from keras.models import Sequential, Model\n",
        "from keras.layers import Dense, Dropout, Activation, Flatten, Add, Input\n",
        "from keras.layers import Convolution2D, MaxPooling2D, Conv2D\n",
        "from keras.layers.normalization import BatchNormalization\n",
        "from keras.utils import np_utils\n",
        "\n",
        "from keras.datasets import mnist\n",
        "print(datetime.datetime.now())"
      ],
      "execution_count": 36,
      "outputs": [
        {
          "output_type": "stream",
          "text": [
            "2019-09-04 13:29:08.899544\n"
          ],
          "name": "stdout"
        }
      ]
    },
    {
      "cell_type": "markdown",
      "metadata": {
        "id": "zByEi95J86RD",
        "colab_type": "text"
      },
      "source": [
        "### Load pre-shuffled MNIST data into train and test sets"
      ]
    },
    {
      "cell_type": "code",
      "metadata": {
        "id": "7eRM0QWN83PV",
        "colab_type": "code",
        "colab": {
          "base_uri": "https://localhost:8080/",
          "height": 68
        },
        "outputId": "980d43d7-6147-48b2-ad73-317cbdaa0079"
      },
      "source": [
        "(X_train, y_train), (X_test, y_test) = mnist.load_data()\n",
        "print(datetime.datetime.now())"
      ],
      "execution_count": 4,
      "outputs": [
        {
          "output_type": "stream",
          "text": [
            "Downloading data from https://s3.amazonaws.com/img-datasets/mnist.npz\n",
            "11493376/11490434 [==============================] - 2s 0us/step\n",
            "2019-09-04 13:01:46.298533\n"
          ],
          "name": "stdout"
        }
      ]
    },
    {
      "cell_type": "code",
      "metadata": {
        "id": "4a4Be72j8-ZC",
        "colab_type": "code",
        "colab": {
          "base_uri": "https://localhost:8080/",
          "height": 303
        },
        "outputId": "1eafb2e7-ea69-49b7-baf7-bb56fa298d7e"
      },
      "source": [
        "print (X_train.shape)\n",
        "from matplotlib import pyplot as plt\n",
        "%matplotlib inline\n",
        "plt.imshow(X_train[0])\n",
        "print(datetime.datetime.now())"
      ],
      "execution_count": 5,
      "outputs": [
        {
          "output_type": "stream",
          "text": [
            "(60000, 28, 28)\n",
            "2019-09-04 13:01:46.328553\n"
          ],
          "name": "stdout"
        },
        {
          "output_type": "display_data",
          "data": {
            "image/png": "[encoded data removed]",
            "text/plain": [
              "<Figure size 432x288 with 1 Axes>"
            ]
          },
          "metadata": {
            "tags": []
          }
        }
      ]
    },
    {
      "cell_type": "code",
      "metadata": {
        "id": "dkmprriw9AnZ",
        "colab_type": "code",
        "colab": {
          "base_uri": "https://localhost:8080/",
          "height": 34
        },
        "outputId": "2e7cc294-a176-4206-f501-51fde2cbb7db"
      },
      "source": [
        "X_train = X_train.reshape(X_train.shape[0], 28, 28,1)\n",
        "X_test = X_test.reshape(X_test.shape[0], 28, 28,1)\n",
        "print(datetime.datetime.now())"
      ],
      "execution_count": 6,
      "outputs": [
        {
          "output_type": "stream",
          "text": [
            "2019-09-04 13:01:46.503920\n"
          ],
          "name": "stdout"
        }
      ]
    },
    {
      "cell_type": "code",
      "metadata": {
        "id": "X2m4YS4E9CRh",
        "colab_type": "code",
        "colab": {
          "base_uri": "https://localhost:8080/",
          "height": 34
        },
        "outputId": "54c4fdd9-7a2a-4b7d-e9b0-691da8cf4507"
      },
      "source": [
        "X_train = X_train.astype('float32')\n",
        "X_test = X_test.astype('float32')\n",
        "X_train /= 255\n",
        "X_test /= 255\n",
        "print(datetime.datetime.now())"
      ],
      "execution_count": 7,
      "outputs": [
        {
          "output_type": "stream",
          "text": [
            "2019-09-04 13:01:46.662473\n"
          ],
          "name": "stdout"
        }
      ]
    },
    {
      "cell_type": "code",
      "metadata": {
        "id": "0Mn0vAYD9DvB",
        "colab_type": "code",
        "colab": {
          "base_uri": "https://localhost:8080/",
          "height": 34
        },
        "outputId": "29094efa-7bf8-4fd3-befc-061a72fac430"
      },
      "source": [
        "y_train[:10]\n",
        "print(datetime.datetime.now())"
      ],
      "execution_count": 8,
      "outputs": [
        {
          "output_type": "stream",
          "text": [
            "2019-09-04 13:01:46.669957\n"
          ],
          "name": "stdout"
        }
      ]
    },
    {
      "cell_type": "code",
      "metadata": {
        "id": "ZG8JiXR39FHC",
        "colab_type": "code",
        "colab": {
          "base_uri": "https://localhost:8080/",
          "height": 34
        },
        "outputId": "2ad3dde0-b3cb-457b-8b63-7b1aea0fadc4"
      },
      "source": [
        "# Convert 1-dimensional class arrays to 10-dimensional class matrices\n",
        "Y_train = np_utils.to_categorical(y_train, 10)\n",
        "Y_test = np_utils.to_categorical(y_test, 10)\n",
        "print(datetime.datetime.now())"
      ],
      "execution_count": 9,
      "outputs": [
        {
          "output_type": "stream",
          "text": [
            "2019-09-04 13:01:46.684414\n"
          ],
          "name": "stdout"
        }
      ]
    },
    {
      "cell_type": "code",
      "metadata": {
        "id": "fYlFRvKS9HMB",
        "colab_type": "code",
        "colab": {
          "base_uri": "https://localhost:8080/",
          "height": 34
        },
        "outputId": "61c026bb-b4d2-4297-8b90-b4db79fcb905"
      },
      "source": [
        "Y_train[:10]\n",
        "print(datetime.datetime.now())"
      ],
      "execution_count": 10,
      "outputs": [
        {
          "output_type": "stream",
          "text": [
            "2019-09-04 13:01:46.690067\n"
          ],
          "name": "stdout"
        }
      ]
    },
    {
      "cell_type": "code",
      "metadata": {
        "id": "osKqT73Q9JJB",
        "colab_type": "code",
        "colab": {
          "base_uri": "https://localhost:8080/",
          "height": 207
        },
        "outputId": "5a317ea9-5c11-4c4e-aa3a-9eaf4b686717"
      },
      "source": [
        "## MAIN BLOCK\n",
        "\n",
        "from keras.layers import Activation\n",
        "model = Sequential()\n",
        "\n",
        " \n",
        "model.add(Convolution2D(32, 3, 3, activation='relu', input_shape=(28,28,1)))\n",
        "model.add(Convolution2D(10, 1, activation='relu'))\n",
        "model.add(Convolution2D(10, 26))\n",
        "model.add(Flatten())\n",
        "model.add(Activation('softmax'))\n",
        "\n",
        "print(datetime.datetime.now())"
      ],
      "execution_count": 11,
      "outputs": [
        {
          "output_type": "stream",
          "text": [
            "WARNING: Logging before flag parsing goes to stderr.\n",
            "W0904 13:01:46.701988 140538345502592 deprecation_wrapper.py:119] From /usr/local/lib/python3.6/dist-packages/keras/backend/tensorflow_backend.py:66: The name tf.get_default_graph is deprecated. Please use tf.compat.v1.get_default_graph instead.\n",
            "\n",
            "/usr/local/lib/python3.6/dist-packages/ipykernel_launcher.py:6: UserWarning: Update your `Conv2D` call to the Keras 2 API: `Conv2D(32, (3, 3), activation=\"relu\", input_shape=(28, 28, 1...)`\n",
            "  \n",
            "W0904 13:01:46.739483 140538345502592 deprecation_wrapper.py:119] From /usr/local/lib/python3.6/dist-packages/keras/backend/tensorflow_backend.py:541: The name tf.placeholder is deprecated. Please use tf.compat.v1.placeholder instead.\n",
            "\n",
            "W0904 13:01:46.746193 140538345502592 deprecation_wrapper.py:119] From /usr/local/lib/python3.6/dist-packages/keras/backend/tensorflow_backend.py:4432: The name tf.random_uniform is deprecated. Please use tf.random.uniform instead.\n",
            "\n"
          ],
          "name": "stderr"
        },
        {
          "output_type": "stream",
          "text": [
            "2019-09-04 13:01:46.803950\n"
          ],
          "name": "stdout"
        }
      ]
    },
    {
      "cell_type": "markdown",
      "metadata": {
        "id": "q1mOgYk5epPz",
        "colab_type": "text"
      },
      "source": [
        "Below MAIN block is redesigned as functional API\n",
        "\n",
        "```\n",
        "# Sequential Code\n",
        "\n",
        "from keras.layers import Activation\n",
        "model = Sequential()\n",
        "\n",
        " \n",
        "model.add(Convolution2D(32, 3, 3, activation='relu', input_shape=(28,28,1)))\n",
        "model.add(Convolution2D(10, 1, activation='relu'))\n",
        "model.add(Convolution2D(10, 26))\n",
        "model.add(Flatten())\n",
        "model.add(Activation('softmax'))\n",
        "\n",
        "print(datetime.datetime.now())\n",
        "\n",
        "```\n",
        "\n"
      ]
    },
    {
      "cell_type": "code",
      "metadata": {
        "id": "TzdAYg1k9K7Z",
        "colab_type": "code",
        "colab": {
          "base_uri": "https://localhost:8080/",
          "height": 340
        },
        "outputId": "3e019b53-4c78-43e9-d45b-150cd8a372f2"
      },
      "source": [
        "model.summary()\n",
        "\n",
        "print(datetime.datetime.now())"
      ],
      "execution_count": 12,
      "outputs": [
        {
          "output_type": "stream",
          "text": [
            "Model: \"sequential_1\"\n",
            "_________________________________________________________________\n",
            "Layer (type)                 Output Shape              Param #   \n",
            "=================================================================\n",
            "conv2d_1 (Conv2D)            (None, 26, 26, 32)        320       \n",
            "_________________________________________________________________\n",
            "conv2d_2 (Conv2D)            (None, 26, 26, 10)        330       \n",
            "_________________________________________________________________\n",
            "conv2d_3 (Conv2D)            (None, 1, 1, 10)          67610     \n",
            "_________________________________________________________________\n",
            "flatten_1 (Flatten)          (None, 10)                0         \n",
            "_________________________________________________________________\n",
            "activation_1 (Activation)    (None, 10)                0         \n",
            "=================================================================\n",
            "Total params: 68,260\n",
            "Trainable params: 68,260\n",
            "Non-trainable params: 0\n",
            "_________________________________________________________________\n",
            "2019-09-04 13:01:46.811226\n"
          ],
          "name": "stdout"
        }
      ]
    },
    {
      "cell_type": "code",
      "metadata": {
        "id": "Zp6SuGrL9M3h",
        "colab_type": "code",
        "colab": {
          "base_uri": "https://localhost:8080/",
          "height": 122
        },
        "outputId": "d42afe9f-fd80-42e8-cd90-73be0177190a"
      },
      "source": [
        "model.compile(loss='categorical_crossentropy',\n",
        "             optimizer='adam',\n",
        "             metrics=['accuracy'])\n",
        "print(datetime.datetime.now())"
      ],
      "execution_count": 13,
      "outputs": [
        {
          "output_type": "stream",
          "text": [
            "W0904 13:01:46.819800 140538345502592 deprecation_wrapper.py:119] From /usr/local/lib/python3.6/dist-packages/keras/optimizers.py:793: The name tf.train.Optimizer is deprecated. Please use tf.compat.v1.train.Optimizer instead.\n",
            "\n",
            "W0904 13:01:46.848776 140538345502592 deprecation_wrapper.py:119] From /usr/local/lib/python3.6/dist-packages/keras/backend/tensorflow_backend.py:3576: The name tf.log is deprecated. Please use tf.math.log instead.\n",
            "\n"
          ],
          "name": "stderr"
        },
        {
          "output_type": "stream",
          "text": [
            "2019-09-04 13:01:46.863702\n"
          ],
          "name": "stdout"
        }
      ]
    },
    {
      "cell_type": "code",
      "metadata": {
        "id": "4xWoKhPY9Of5",
        "colab_type": "code",
        "colab": {
          "base_uri": "https://localhost:8080/",
          "height": 513
        },
        "outputId": "3b54342e-568a-408b-d6a0-6021300b5717"
      },
      "source": [
        "model.fit(X_train, Y_train, batch_size=32, nb_epoch=10, verbose=1)\n",
        "print(datetime.datetime.now())"
      ],
      "execution_count": 14,
      "outputs": [
        {
          "output_type": "stream",
          "text": [
            "/usr/local/lib/python3.6/dist-packages/ipykernel_launcher.py:1: UserWarning: The `nb_epoch` argument in `fit` has been renamed `epochs`.\n",
            "  \"\"\"Entry point for launching an IPython kernel.\n",
            "W0904 13:01:46.960660 140538345502592 deprecation.py:323] From /usr/local/lib/python3.6/dist-packages/tensorflow/python/ops/math_grad.py:1250: add_dispatch_support.<locals>.wrapper (from tensorflow.python.ops.array_ops) is deprecated and will be removed in a future version.\n",
            "Instructions for updating:\n",
            "Use tf.where in 2.0, which has the same broadcast rule as np.where\n",
            "W0904 13:01:47.099745 140538345502592 deprecation_wrapper.py:119] From /usr/local/lib/python3.6/dist-packages/keras/backend/tensorflow_backend.py:1033: The name tf.assign_add is deprecated. Please use tf.compat.v1.assign_add instead.\n",
            "\n"
          ],
          "name": "stderr"
        },
        {
          "output_type": "stream",
          "text": [
            "Epoch 1/10\n",
            "60000/60000 [==============================] - 14s 233us/step - loss: 0.2099 - acc: 0.9383\n",
            "Epoch 2/10\n",
            "60000/60000 [==============================] - 7s 124us/step - loss: 0.0811 - acc: 0.9755\n",
            "Epoch 3/10\n",
            "60000/60000 [==============================] - 7s 123us/step - loss: 0.0587 - acc: 0.9823\n",
            "Epoch 4/10\n",
            "60000/60000 [==============================] - 7s 121us/step - loss: 0.0461 - acc: 0.9854\n",
            "Epoch 5/10\n",
            "60000/60000 [==============================] - 7s 122us/step - loss: 0.0355 - acc: 0.9891\n",
            "Epoch 6/10\n",
            "60000/60000 [==============================] - 7s 122us/step - loss: 0.0289 - acc: 0.9909\n",
            "Epoch 7/10\n",
            "60000/60000 [==============================] - 8s 126us/step - loss: 0.0222 - acc: 0.9932\n",
            "Epoch 8/10\n",
            "60000/60000 [==============================] - 7s 123us/step - loss: 0.0171 - acc: 0.9945\n",
            "Epoch 9/10\n",
            "60000/60000 [==============================] - 7s 120us/step - loss: 0.0145 - acc: 0.9954\n",
            "Epoch 10/10\n",
            "60000/60000 [==============================] - 8s 126us/step - loss: 0.0122 - acc: 0.9963\n",
            "2019-09-04 13:03:07.661049\n"
          ],
          "name": "stdout"
        }
      ]
    },
    {
      "cell_type": "code",
      "metadata": {
        "id": "AtsH-lLk-eLb",
        "colab_type": "code",
        "colab": {
          "base_uri": "https://localhost:8080/",
          "height": 34
        },
        "outputId": "0c168fdf-1917-491a-ce75-ca350b7ab539"
      },
      "source": [
        "score = model.evaluate(X_test, Y_test, verbose=0)\n",
        "print(datetime.datetime.now())"
      ],
      "execution_count": 15,
      "outputs": [
        {
          "output_type": "stream",
          "text": [
            "2019-09-04 13:03:08.179088\n"
          ],
          "name": "stdout"
        }
      ]
    },
    {
      "cell_type": "code",
      "metadata": {
        "id": "mkX8JMv79q9r",
        "colab_type": "code",
        "colab": {
          "base_uri": "https://localhost:8080/",
          "height": 51
        },
        "outputId": "68492eb8-0f0b-4a46-dcba-00a6f19c1d54"
      },
      "source": [
        "print(score)\n",
        "print(datetime.datetime.now())"
      ],
      "execution_count": 16,
      "outputs": [
        {
          "output_type": "stream",
          "text": [
            "[0.08284673282626527, 0.9802]\n",
            "2019-09-04 13:03:08.187290\n"
          ],
          "name": "stdout"
        }
      ]
    },
    {
      "cell_type": "markdown",
      "metadata": {
        "id": "QT616H-yZxVk",
        "colab_type": "text"
      },
      "source": [
        "### Redesign the above block as follows:\n",
        "\n",
        "*   x1 = Input\n",
        "*   x2 = Conv(x1)\n",
        "*   x3 = Conv(x1 + x2)\n",
        "*   x4 = MaxPooling(x1 + x2 + x3)\n",
        "*   x5 = Conv(x4)\n",
        "*   x6 = Conv(x4 + x5)\n",
        "*   x7 = Conv(x4 + x5 + x6)\n",
        "*   x8 = MaxPooling(x5 + x6 + x7)\n",
        "*   x9 = Conv(x8)\n",
        "*   x10 = Conv (x8 + x9)\n",
        "*   x11 = Conv (x8 + x9 + x10)\n",
        "\n",
        "\n",
        "*   BIG KERNEL Operation (use a large kernel size (10 units), if required at this step to be able to add softmax in the next layer)\n",
        "SoftMax"
      ]
    },
    {
      "cell_type": "code",
      "metadata": {
        "id": "Wm9tg3mpXsr4",
        "colab_type": "code",
        "colab": {
          "base_uri": "https://localhost:8080/",
          "height": 122
        },
        "outputId": "e4edb9f4-4d90-43cd-bd17-e6cd560b0761"
      },
      "source": [
        "## Functional DNN\n",
        "\n",
        "#Redefine the network with dropout and more channels\n",
        "\n",
        "x1 = Input(shape=(28,28,1), name='ImageInput')\n",
        "\n",
        "x2 = Conv2D(32, (3,3), activation='relu', padding='same', name='x2')(x1)\n",
        "x2 = BatchNormalization()(x2)\n",
        "x2 = Dropout(rate=0.1)(x2)\n",
        "\n",
        "x3 = Conv2D(32, (3,3), activation='relu', padding='same', name='x3')(keras.layers.add([x1, x2])) \n",
        "x3 = BatchNormalization()(x3)\n",
        "\n",
        "x4 = MaxPooling2D((2,2), name='x4')(keras.layers.add([x1, x2, x3])) \n",
        "x5 = Conv2D(32, (3,3), activation='relu', padding='same', name='x5')(x4)\n",
        "x5 = BatchNormalization()(x5)\n",
        "\n",
        "x6 = Conv2D(32, (3,3), activation='relu', padding='same', name='x6')(keras.layers.add([x4, x5])) \n",
        "x6 = BatchNormalization()(x6)\n",
        "\n",
        "x7 = Conv2D(32, (3,3), activation='relu', padding='same', name='x7')(keras.layers.add([x4, x5, x6])) \n",
        "x7 = BatchNormalization()(x7)\n",
        "\n",
        "x8 = MaxPooling2D((2,2), name='x8')(keras.layers.add([x5, x6, x7])) \n",
        "x9 = Conv2D(32, (3,3), activation='relu', padding='same', name='x9')(x8)\n",
        "x9 = BatchNormalization()(x9)\n",
        "\n",
        "\n",
        "x10 = Conv2D(32, (3,3), activation='relu', padding='same', name='x10')(keras.layers.add([x8, x9])) \n",
        "x10 = BatchNormalization()(x10)\n",
        "\n",
        "x11 = Conv2D(32, (3,3), activation='relu', padding='same', name='x11')(keras.layers.add([x8, x9, x10])) \n",
        "x11 = BatchNormalization()(x11)\n",
        "\n",
        "x = Convolution2D(10, (7, 7))(x11)\n",
        "flat = Flatten()(x)\n",
        "predictions = Activation('softmax')(flat)\n",
        "model = Model(inputs=x1, outputs=predictions)"
      ],
      "execution_count": 37,
      "outputs": [
        {
          "output_type": "stream",
          "text": [
            "W0904 13:29:19.250844 140538345502592 deprecation_wrapper.py:119] From /usr/local/lib/python3.6/dist-packages/keras/backend/tensorflow_backend.py:2041: The name tf.nn.fused_batch_norm is deprecated. Please use tf.compat.v1.nn.fused_batch_norm instead.\n",
            "\n",
            "W0904 13:29:19.426894 140538345502592 deprecation.py:506] From /usr/local/lib/python3.6/dist-packages/keras/backend/tensorflow_backend.py:3733: calling dropout (from tensorflow.python.ops.nn_ops) with keep_prob is deprecated and will be removed in a future version.\n",
            "Instructions for updating:\n",
            "Please use `rate` instead of `keep_prob`. Rate should be set to `rate = 1 - keep_prob`.\n"
          ],
          "name": "stderr"
        }
      ]
    },
    {
      "cell_type": "code",
      "metadata": {
        "id": "NmhWx4vhazy6",
        "colab_type": "code",
        "colab": {
          "base_uri": "https://localhost:8080/",
          "height": 1000
        },
        "outputId": "eac75994-3a0b-4ae0-c303-2406532b0276"
      },
      "source": [
        "model.summary()\n",
        "\n",
        "print(datetime.datetime.now())"
      ],
      "execution_count": 38,
      "outputs": [
        {
          "output_type": "stream",
          "text": [
            "Model: \"model_5\"\n",
            "__________________________________________________________________________________________________\n",
            "Layer (type)                    Output Shape         Param #     Connected to                     \n",
            "==================================================================================================\n",
            "ImageInput (InputLayer)         (None, 28, 28, 1)    0                                            \n",
            "__________________________________________________________________________________________________\n",
            "x2 (Conv2D)                     (None, 28, 28, 32)   320         ImageInput[0][0]                 \n",
            "__________________________________________________________________________________________________\n",
            "batch_normalization_1 (BatchNor (None, 28, 28, 32)   128         x2[0][0]                         \n",
            "__________________________________________________________________________________________________\n",
            "dropout_1 (Dropout)             (None, 28, 28, 32)   0           batch_normalization_1[0][0]      \n",
            "__________________________________________________________________________________________________\n",
            "add_50 (Add)                    (None, 28, 28, 32)   0           ImageInput[0][0]                 \n",
            "                                                                 dropout_1[0][0]                  \n",
            "__________________________________________________________________________________________________\n",
            "x3 (Conv2D)                     (None, 28, 28, 32)   9248        add_50[0][0]                     \n",
            "__________________________________________________________________________________________________\n",
            "batch_normalization_2 (BatchNor (None, 28, 28, 32)   128         x3[0][0]                         \n",
            "__________________________________________________________________________________________________\n",
            "dropout_2 (Dropout)             (None, 28, 28, 32)   0           batch_normalization_2[0][0]      \n",
            "__________________________________________________________________________________________________\n",
            "add_51 (Add)                    (None, 28, 28, 32)   0           ImageInput[0][0]                 \n",
            "                                                                 dropout_1[0][0]                  \n",
            "                                                                 dropout_2[0][0]                  \n",
            "__________________________________________________________________________________________________\n",
            "x4 (MaxPooling2D)               (None, 14, 14, 32)   0           add_51[0][0]                     \n",
            "__________________________________________________________________________________________________\n",
            "x5 (Conv2D)                     (None, 14, 14, 32)   9248        x4[0][0]                         \n",
            "__________________________________________________________________________________________________\n",
            "batch_normalization_3 (BatchNor (None, 14, 14, 32)   128         x5[0][0]                         \n",
            "__________________________________________________________________________________________________\n",
            "dropout_3 (Dropout)             (None, 14, 14, 32)   0           batch_normalization_3[0][0]      \n",
            "__________________________________________________________________________________________________\n",
            "add_52 (Add)                    (None, 14, 14, 32)   0           x4[0][0]                         \n",
            "                                                                 dropout_3[0][0]                  \n",
            "__________________________________________________________________________________________________\n",
            "x6 (Conv2D)                     (None, 14, 14, 32)   9248        add_52[0][0]                     \n",
            "__________________________________________________________________________________________________\n",
            "batch_normalization_4 (BatchNor (None, 14, 14, 32)   128         x6[0][0]                         \n",
            "__________________________________________________________________________________________________\n",
            "dropout_4 (Dropout)             (None, 14, 14, 32)   0           batch_normalization_4[0][0]      \n",
            "__________________________________________________________________________________________________\n",
            "add_53 (Add)                    (None, 14, 14, 32)   0           x4[0][0]                         \n",
            "                                                                 dropout_3[0][0]                  \n",
            "                                                                 dropout_4[0][0]                  \n",
            "__________________________________________________________________________________________________\n",
            "x7 (Conv2D)                     (None, 14, 14, 32)   9248        add_53[0][0]                     \n",
            "__________________________________________________________________________________________________\n",
            "batch_normalization_5 (BatchNor (None, 14, 14, 32)   128         x7[0][0]                         \n",
            "__________________________________________________________________________________________________\n",
            "dropout_5 (Dropout)             (None, 14, 14, 32)   0           batch_normalization_5[0][0]      \n",
            "__________________________________________________________________________________________________\n",
            "add_54 (Add)                    (None, 14, 14, 32)   0           dropout_3[0][0]                  \n",
            "                                                                 dropout_4[0][0]                  \n",
            "                                                                 dropout_5[0][0]                  \n",
            "__________________________________________________________________________________________________\n",
            "x8 (MaxPooling2D)               (None, 7, 7, 32)     0           add_54[0][0]                     \n",
            "__________________________________________________________________________________________________\n",
            "x9 (Conv2D)                     (None, 7, 7, 32)     9248        x8[0][0]                         \n",
            "__________________________________________________________________________________________________\n",
            "batch_normalization_6 (BatchNor (None, 7, 7, 32)     128         x9[0][0]                         \n",
            "__________________________________________________________________________________________________\n",
            "dropout_6 (Dropout)             (None, 7, 7, 32)     0           batch_normalization_6[0][0]      \n",
            "__________________________________________________________________________________________________\n",
            "add_55 (Add)                    (None, 7, 7, 32)     0           x8[0][0]                         \n",
            "                                                                 dropout_6[0][0]                  \n",
            "__________________________________________________________________________________________________\n",
            "x10 (Conv2D)                    (None, 7, 7, 32)     9248        add_55[0][0]                     \n",
            "__________________________________________________________________________________________________\n",
            "batch_normalization_7 (BatchNor (None, 7, 7, 32)     128         x10[0][0]                        \n",
            "__________________________________________________________________________________________________\n",
            "dropout_7 (Dropout)             (None, 7, 7, 32)     0           batch_normalization_7[0][0]      \n",
            "__________________________________________________________________________________________________\n",
            "add_56 (Add)                    (None, 7, 7, 32)     0           x8[0][0]                         \n",
            "                                                                 dropout_6[0][0]                  \n",
            "                                                                 dropout_7[0][0]                  \n",
            "__________________________________________________________________________________________________\n",
            "x11 (Conv2D)                    (None, 7, 7, 32)     9248        add_56[0][0]                     \n",
            "__________________________________________________________________________________________________\n",
            "batch_normalization_8 (BatchNor (None, 7, 7, 32)     128         x11[0][0]                        \n",
            "__________________________________________________________________________________________________\n",
            "conv2d_11 (Conv2D)              (None, 1, 1, 10)     15690       batch_normalization_8[0][0]      \n",
            "__________________________________________________________________________________________________\n",
            "flatten_8 (Flatten)             (None, 10)           0           conv2d_11[0][0]                  \n",
            "__________________________________________________________________________________________________\n",
            "activation_8 (Activation)       (None, 10)           0           flatten_8[0][0]                  \n",
            "==================================================================================================\n",
            "Total params: 81,770\n",
            "Trainable params: 81,258\n",
            "Non-trainable params: 512\n",
            "__________________________________________________________________________________________________\n",
            "2019-09-04 13:29:20.068504\n"
          ],
          "name": "stdout"
        }
      ]
    },
    {
      "cell_type": "code",
      "metadata": {
        "id": "DDs3o7C_bZxE",
        "colab_type": "code",
        "colab": {
          "base_uri": "https://localhost:8080/",
          "height": 34
        },
        "outputId": "1b551fe7-5710-4196-9a19-7c720d950dbc"
      },
      "source": [
        "model.compile(loss='categorical_crossentropy',\n",
        "             optimizer='adam',\n",
        "             metrics=['accuracy'])\n",
        "print(datetime.datetime.now())"
      ],
      "execution_count": 39,
      "outputs": [
        {
          "output_type": "stream",
          "text": [
            "2019-09-04 13:29:20.114719\n"
          ],
          "name": "stdout"
        }
      ]
    },
    {
      "cell_type": "code",
      "metadata": {
        "id": "KdlITbL2cA0a",
        "colab_type": "code",
        "colab": {
          "base_uri": "https://localhost:8080/",
          "height": 408
        },
        "outputId": "794d13bd-5833-45f1-fe10-10f93416375b"
      },
      "source": [
        "model.fit(X_train, Y_train, batch_size=32, nb_epoch=10, verbose=1)\n",
        "print(datetime.datetime.now())"
      ],
      "execution_count": 40,
      "outputs": [
        {
          "output_type": "stream",
          "text": [
            "/usr/local/lib/python3.6/dist-packages/ipykernel_launcher.py:1: UserWarning: The `nb_epoch` argument in `fit` has been renamed `epochs`.\n",
            "  \"\"\"Entry point for launching an IPython kernel.\n"
          ],
          "name": "stderr"
        },
        {
          "output_type": "stream",
          "text": [
            "Epoch 1/10\n",
            "60000/60000 [==============================] - 27s 453us/step - loss: 0.1020 - acc: 0.9684\n",
            "Epoch 2/10\n",
            "60000/60000 [==============================] - 25s 421us/step - loss: 0.0464 - acc: 0.9856\n",
            "Epoch 3/10\n",
            "60000/60000 [==============================] - 25s 414us/step - loss: 0.0307 - acc: 0.9901\n",
            "Epoch 4/10\n",
            "60000/60000 [==============================] - 25s 415us/step - loss: 0.0262 - acc: 0.9914\n",
            "Epoch 5/10\n",
            "60000/60000 [==============================] - 25s 411us/step - loss: 0.0219 - acc: 0.9930\n",
            "Epoch 6/10\n",
            "60000/60000 [==============================] - 25s 412us/step - loss: 0.0181 - acc: 0.9945\n",
            "Epoch 7/10\n",
            "60000/60000 [==============================] - 25s 410us/step - loss: 0.0158 - acc: 0.9950\n",
            "Epoch 8/10\n",
            "60000/60000 [==============================] - 24s 405us/step - loss: 0.0122 - acc: 0.9960\n",
            "Epoch 9/10\n",
            "60000/60000 [==============================] - 25s 409us/step - loss: 0.0115 - acc: 0.9960\n",
            "Epoch 10/10\n",
            "60000/60000 [==============================] - 25s 409us/step - loss: 0.0095 - acc: 0.9969\n",
            "2019-09-04 13:33:31.145794\n"
          ],
          "name": "stdout"
        }
      ]
    },
    {
      "cell_type": "code",
      "metadata": {
        "id": "LzkEZIxwcHiC",
        "colab_type": "code",
        "colab": {
          "base_uri": "https://localhost:8080/",
          "height": 34
        },
        "outputId": "514f1680-9de4-4180-c1ef-1799aec66af8"
      },
      "source": [
        "score = model.evaluate(X_test, Y_test, verbose=0)\n",
        "print(datetime.datetime.now())"
      ],
      "execution_count": 41,
      "outputs": [
        {
          "output_type": "stream",
          "text": [
            "2019-09-04 13:33:32.198167\n"
          ],
          "name": "stdout"
        }
      ]
    },
    {
      "cell_type": "code",
      "metadata": {
        "id": "zA-W8D2vcqun",
        "colab_type": "code",
        "colab": {
          "base_uri": "https://localhost:8080/",
          "height": 51
        },
        "outputId": "b0372b75-f98c-4751-f28f-35ddfc7ba8a1"
      },
      "source": [
        "print(score)\n",
        "print(datetime.datetime.now())"
      ],
      "execution_count": 42,
      "outputs": [
        {
          "output_type": "stream",
          "text": [
            "[0.13826049981717953, 0.9492]\n",
            "2019-09-04 13:33:32.205447\n"
          ],
          "name": "stdout"
        }
      ]
    },
    {
      "cell_type": "code",
      "metadata": {
        "id": "XhIwsS0McwF_",
        "colab_type": "code",
        "colab": {}
      },
      "source": [
        ""
      ],
      "execution_count": 0,
      "outputs": []
    }
  ]
}